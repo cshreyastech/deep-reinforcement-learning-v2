{
 "cells": [
  {
   "cell_type": "markdown",
   "metadata": {},
   "source": [
    "# Collaboration and Competition\n",
    "\n",
    "---\n",
    "\n",
    "In this notebook, you will learn how to use the Unity ML-Agents environment for the third project of the [Deep Reinforcement Learning Nanodegree](https://www.udacity.com/course/deep-reinforcement-learning-nanodegree--nd893) program.\n",
    "\n",
    "### 1. Start the Environment\n",
    "\n",
    "We begin by importing the necessary packages.  If the code cell below returns an error, please revisit the project instructions to double-check that you have installed [Unity ML-Agents](https://github.com/Unity-Technologies/ml-agents/blob/master/docs/Installation.md) and [NumPy](http://www.numpy.org/)."
   ]
  },
  {
   "cell_type": "code",
   "execution_count": 1,
   "metadata": {},
   "outputs": [],
   "source": [
    "from unityagents import UnityEnvironment\n",
    "from buffer import ReplayBuffer\n",
    "from maddpg import MADDPG\n",
    "import torch\n",
    "import numpy as np\n",
    "from tensorboardX import SummaryWriter\n",
    "import os\n",
    "from utilities import transpose_list, transpose_to_tensor\n",
    "from collections import deque\n",
    "import matplotlib.pyplot as plt"
   ]
  },
  {
   "cell_type": "markdown",
   "metadata": {},
   "source": [
    "Next, we will start the environment!  **_Before running the code cell below_**, change the `file_name` parameter to match the location of the Unity environment that you downloaded.\n",
    "\n",
    "- **Mac**: `\"path/to/Tennis.app\"`\n",
    "- **Windows** (x86): `\"path/to/Tennis_Windows_x86/Tennis.exe\"`\n",
    "- **Windows** (x86_64): `\"path/to/Tennis_Windows_x86_64/Tennis.exe\"`\n",
    "- **Linux** (x86): `\"path/to/Tennis_Linux/Tennis.x86\"`\n",
    "- **Linux** (x86_64): `\"path/to/Tennis_Linux/Tennis.x86_64\"`\n",
    "- **Linux** (x86, headless): `\"path/to/Tennis_Linux_NoVis/Tennis.x86\"`\n",
    "- **Linux** (x86_64, headless): `\"path/to/Tennis_Linux_NoVis/Tennis.x86_64\"`\n",
    "\n",
    "For instance, if you are using a Mac, then you downloaded `Tennis.app`.  If this file is in the same folder as the notebook, then the line below should appear as follows:\n",
    "```\n",
    "env = UnityEnvironment(file_name=\"Tennis.app\")\n",
    "```"
   ]
  },
  {
   "cell_type": "code",
   "execution_count": 2,
   "metadata": {},
   "outputs": [],
   "source": [
    "def seeding(seed=1):\n",
    "    np.random.seed(seed)\n",
    "    torch.manual_seed(seed)"
   ]
  },
  {
   "cell_type": "code",
   "execution_count": 3,
   "metadata": {},
   "outputs": [
    {
     "name": "stderr",
     "output_type": "stream",
     "text": [
      "INFO:unityagents:\n",
      "'Academy' started successfully!\n",
      "Unity Academy name: Academy\n",
      "        Number of Brains: 1\n",
      "        Number of External Brains : 1\n",
      "        Lesson number : 0\n",
      "        Reset Parameters :\n",
      "\t\t\n",
      "Unity brain name: TennisBrain\n",
      "        Number of Visual Observations (per agent): 0\n",
      "        Vector Observation space type: continuous\n",
      "        Vector Observation space size (per agent): 8\n",
      "        Number of stacked Vector Observation: 3\n",
      "        Vector Action space type: continuous\n",
      "        Vector Action space size (per agent): 2\n",
      "        Vector Action descriptions: , \n"
     ]
    }
   ],
   "source": [
    "env = UnityEnvironment(file_name=\"/codebase/deep-reinforcement-learning-v2/p3_collab-compet/Tennis_Linux/Tennis.x86_64\")"
   ]
  },
  {
   "cell_type": "markdown",
   "metadata": {},
   "source": [
    "Environments contain **_brains_** which are responsible for deciding the actions of their associated agents. Here we check for the first brain available, and set it as the default brain we will be controlling from Python."
   ]
  },
  {
   "cell_type": "code",
   "execution_count": 4,
   "metadata": {},
   "outputs": [],
   "source": [
    "# get the default brain\n",
    "brain_name = env.brain_names[0]\n",
    "brain = env.brains[brain_name]"
   ]
  },
  {
   "cell_type": "code",
   "execution_count": 5,
   "metadata": {},
   "outputs": [],
   "source": [
    "def main_maddpg():\n",
    "    seeding()\n",
    "    # number of training episodes.\n",
    "    # change this to higher number to experiment. say 30000.\n",
    "    \n",
    "    #env = UnityEnvironment(file_name=\"/codebase/deep-reinforcement-learning-v2/p3_collab-compet/Tennis_Linux/Tennis.x86_64\")\n",
    "    # get the default brain\n",
    "    #brain_name = env.brain_names[0]\n",
    "    #brain = env.brains[brain_name]\n",
    "\n",
    "\n",
    "    number_of_episode = 1000\n",
    "    episode_length = 1000\n",
    "    batchsize = 256\n",
    "    # how many episodes to save policy and gif\n",
    "    save_interval = 1000\n",
    "    rewards_deque = deque(maxlen=100)\n",
    "    rewards = []\n",
    "    scores = []\n",
    "    # amplitude of OU noise\n",
    "    # this slowly decreases to 0\n",
    "    noise = 1.0\n",
    "    noise_reduction = 0.9999\n",
    "    BUFFER_SIZE = int(1e5) # replay buffer size\n",
    "    \n",
    "    print_every = 100\n",
    "    # how many episodes before update\n",
    "\n",
    "    env_info = env.reset(train_mode=True)[brain_name]\n",
    "    states = env_info.vector_observations\n",
    "    num_agents, num_spaces = states.shape\n",
    "        \n",
    "    log_path = os.getcwd()+\"/log\"\n",
    "    #model_dir= os.getcwd()+\"/model_dir\"\n",
    "    \n",
    "    #os.makedirs(model_dir, exist_ok=True)\n",
    "\n",
    "    #torch.set_num_threads(parallel_envs)\n",
    "    #env = envs.make_parallel_env(parallel_envs)\n",
    "    \n",
    "    buffer = ReplayBuffer(BUFFER_SIZE)\n",
    "    \n",
    "    # initialize policy and critic\n",
    "    maddpg = MADDPG(num_agents, num_spaces)\n",
    "    logger = SummaryWriter(log_dir=log_path)\n",
    "\n",
    "    # training loop\n",
    "    # show progressbar\n",
    "    \"\"\"\n",
    "    import progressbar as pb\n",
    "    widget = ['episode: ', pb.Counter(),'/',str(number_of_episodes),' ', \n",
    "              pb.Percentage(), ' ', pb.ETA(), ' ', pb.Bar(marker=pb.RotatingMarker()), ' ' ]\n",
    "    \n",
    "    timer = pb.ProgressBar(widgets=widget, maxval=number_of_episodes).start()\n",
    "    \"\"\"\n",
    "\n",
    "    # use keep_awake to keep workspace from disconnecting\n",
    "    for episode in range(0, number_of_episode):\n",
    "        rewards_this_episode = np.zeros((num_agents, ))\n",
    "        #timer.update(episode)\n",
    "\n",
    "        \n",
    "        env_info = env.reset(train_mode=True)[brain_name]\n",
    "        states = env_info.vector_observations        \n",
    "        reward_this_episode = np.zeros((num_agents, ))\n",
    "    \n",
    "        \n",
    "        for episode_t in range(episode_length):          \n",
    "            # explore = only explore for a certain number of episodes\n",
    "            # action input needs to be transposed\n",
    "            actions = maddpg.act(states, noise=noise)\n",
    "            noise *= noise_reduction\n",
    "            \n",
    "            #actions_array = torch.stack(actions).detach().numpy()\n",
    "\n",
    "            # transpose the list of list\n",
    "            # flip the first two indices\n",
    "            # input to step requires the first index to correspond to number of parallel agents\n",
    "            #actions_for_env = np.rollaxis(actions_array,1)\n",
    "            \n",
    "            # step forward one frame\n",
    "            #next_obs, next_obs_full, rewards, dones, info = env.step(actions_for_env)\n",
    "            next_states = env_info.vector_observations\n",
    "            rewards = env_info.rewards\n",
    "            dones = env_info.local_done\n",
    "            \n",
    "            #print('main-transition-next_states: ', next_states)\n",
    "            # add data to buffer\n",
    "            transition = (states, actions, rewards, next_states, dones)\n",
    "            buffer.push(transition)\n",
    "            \n",
    "            stats = next_states\n",
    "            reward_this_episode += rewards\n",
    "            \n",
    "            if np.any(dones):\n",
    "                break\n",
    "\n",
    "        # update once after every episode_per_update\n",
    "        if len(buffer) > batchsize:\n",
    "            for a_i in range(num_agents):\n",
    "                samples = buffer.sample(batchsize)\n",
    "                \n",
    "                maddpg.update(samples, a_i, logger)\n",
    "                #maddpg.update_targets() #soft update the target network towards the actual networks\n",
    "\n",
    "        \n",
    "        rewards.append(reward_this_episode)\n",
    "        # just get maximum rewards\n",
    "        rewards_deque.append(np.max(rewards_this_episode))\n",
    "        average_score = np.mean(rewards_deque)\n",
    "\n",
    "        scores.append(average_score)\n",
    "        #saving model\n",
    "        #save_dict_list =[]\n",
    "        \n",
    "        if episode_t % print_every == 0 or average_score > 0.5:\n",
    "            print('\\nEpisode {}\\tAverage Score: {:.2f}'.format(episode, average_score), end=\"\")\n",
    "            \"\"\"\n",
    "            for i in range(num_agents):\n",
    "                save_dict = {'actor_params' : maddpg.maddpg_agent[i].actor.state_dict(),\n",
    "                             'actor_optim_params': maddpg.maddpg_agent[i].actor_optimizer.state_dict(),\n",
    "                             'critic_params' : maddpg.maddpg_agent[i].critic.state_dict(),\n",
    "                             'critic_optim_params' : maddpg.maddpg_agent[i].critic_optimizer.state_dict()}\n",
    "                save_dict_list.append(save_dict)\n",
    "\n",
    "                torch.save(save_dict_list, \n",
    "                           os.path.join(model_dir, 'episode-{}.pt'.format(episode)))\n",
    "            \"\"\"\n",
    "            if average_score > 0.5:\n",
    "                break\n",
    "    return scores\n",
    "    "
   ]
  },
  {
   "cell_type": "code",
   "execution_count": null,
   "metadata": {},
   "outputs": [
    {
     "name": "stdout",
     "output_type": "stream",
     "text": [
      "\n",
      "Episode 129\tAverage Score: 0.00\n",
      "Episode 322\tAverage Score: 0.00\n",
      "Episode 437\tAverage Score: 0.00\n",
      "Episode 594\tAverage Score: 0.00\n",
      "Episode 692\tAverage Score: 0.00\n",
      "Episode 793\tAverage Score: 0.00\n",
      "Episode 929\tAverage Score: 0.00"
     ]
    }
   ],
   "source": [
    "scores = main_maddpg()"
   ]
  },
  {
   "cell_type": "code",
   "execution_count": null,
   "metadata": {},
   "outputs": [],
   "source": [
    "\n",
    "fig = plt.figure()\n",
    "ax = fig.add_subplot(111)\n",
    "plt.plot(np.arange(1, len(scores)+1), scores)\n",
    "plt.ylabel('Score')\n",
    "plt.xlabel('Episode #')\n"
   ]
  },
  {
   "cell_type": "code",
   "execution_count": null,
   "metadata": {},
   "outputs": [],
   "source": [
    "env.close()\n",
    "logger.close()\n",
    "#timer.finish()"
   ]
  },
  {
   "cell_type": "markdown",
   "metadata": {},
   "source": [
    "When finished, you can close the environment."
   ]
  }
 ],
 "metadata": {
  "kernelspec": {
   "display_name": "drlnd",
   "language": "python",
   "name": "drlnd"
  },
  "language_info": {
   "codemirror_mode": {
    "name": "ipython",
    "version": 3
   },
   "file_extension": ".py",
   "mimetype": "text/x-python",
   "name": "python",
   "nbconvert_exporter": "python",
   "pygments_lexer": "ipython3",
   "version": "3.6.5"
  }
 },
 "nbformat": 4,
 "nbformat_minor": 2
}
